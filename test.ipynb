{
 "cells": [
  {
   "cell_type": "markdown",
   "metadata": {},
   "source": [
    "## importing rs_magic"
   ]
  },
  {
   "cell_type": "code",
   "execution_count": 1,
   "metadata": {},
   "outputs": [],
   "source": [
    "%%capture\n",
    "import rs_magic"
   ]
  },
  {
   "cell_type": "markdown",
   "metadata": {},
   "source": [
    "## building rust binary"
   ]
  },
  {
   "cell_type": "code",
   "execution_count": 2,
   "metadata": {},
   "outputs": [
    {
     "name": "stdout",
     "output_type": "stream",
     "text": [
      "pixiedust_node 0.2.5 started. Cells starting '%%node' may contain Node.js code.\n",
      "injecting `rand_it` in user ns\n"
     ]
    }
   ],
   "source": [
    "%%rs -l rand int rand_it(int);\n",
    "extern crate rand;\n",
    "use rand::Rng;\n",
    "#[no_mangle]\n",
    "pub extern fn rand_it(x: i32) -> i32 {\n",
    "    let mut rng = rand::thread_rng();\n",
    "    x*3 + rng.gen::<i32>()\n",
    "}"
   ]
  },
  {
   "cell_type": "code",
   "execution_count": 3,
   "metadata": {},
   "outputs": [
    {
     "data": {
      "text/plain": [
       "-1617891385"
      ]
     },
     "execution_count": 3,
     "metadata": {},
     "output_type": "execute_result"
    }
   ],
   "source": [
    "rand_it(12)"
   ]
  },
  {
   "cell_type": "markdown",
   "metadata": {},
   "source": [
    "## building web-assembly via wasm-bindgen and pixiedust (%%node)\n",
    "\n",
    "wasm-bindgen compile is rather long. consider to use play.rust-lang.org to check code/error first"
   ]
  },
  {
   "cell_type": "code",
   "execution_count": 4,
   "metadata": {},
   "outputs": [],
   "source": [
    "%%rs --wasm hello\n",
    "extern crate wasm_bindgen;\n",
    "use wasm_bindgen::prelude::*;\n",
    "\n",
    "#[wasm_bindgen]\n",
    "extern {\n",
    "    #[wasm_bindgen(js_namespace = console)]\n",
    "    fn log(msg: &str);    \n",
    "}\n",
    "\n",
    "#[wasm_bindgen]\n",
    "pub fn greet(name: &str) -> String {\n",
    "    format!(\"Hello, {}!\", name)\n",
    "}"
   ]
  },
  {
   "cell_type": "code",
   "execution_count": 5,
   "metadata": {},
   "outputs": [],
   "source": [
    "%%node\n",
    "print(hello.greet(\"world\"))"
   ]
  },
  {
   "cell_type": "code",
   "execution_count": 6,
   "metadata": {},
   "outputs": [
    {
     "name": "stdout",
     "output_type": "stream",
     "text": [
      "\"Hello, world!\"\n"
     ]
    }
   ],
   "source": [
    "%%rs?"
   ]
  }
 ],
 "metadata": {
  "kernelspec": {
   "display_name": "Python 3",
   "language": "python",
   "name": "python3"
  },
  "language_info": {
   "codemirror_mode": {
    "name": "ipython",
    "version": 3
   },
   "file_extension": ".py",
   "mimetype": "text/x-python",
   "name": "python",
   "nbconvert_exporter": "python",
   "pygments_lexer": "ipython3",
   "version": "3.6.6"
  }
 },
 "nbformat": 4,
 "nbformat_minor": 2
}
